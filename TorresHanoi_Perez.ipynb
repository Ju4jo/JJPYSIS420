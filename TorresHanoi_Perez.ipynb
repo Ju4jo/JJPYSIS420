{
  "nbformat": 4,
  "nbformat_minor": 0,
  "metadata": {
    "colab": {
      "provenance": []
    },
    "kernelspec": {
      "name": "python3",
      "display_name": "Python 3"
    },
    "language_info": {
      "name": "python"
    }
  },
  "cells": [
    {
      "cell_type": "code",
      "execution_count": 4,
      "metadata": {
        "colab": {
          "base_uri": "https://localhost:8080/"
        },
        "id": "6QzxpwqblF8W",
        "outputId": "cf16291a-18df-4f8f-bef6-6fd9b71c2d33"
      },
      "outputs": [
        {
          "output_type": "stream",
          "name": "stdout",
          "text": [
            "Resolver por el mejor metodo de primera busqueda:\n",
            "1: Mover Disco 1 desde clavija 1 a 3\n",
            "2: Mover Disco 2 desde clavija 1 a 2\n",
            "3: Mover Disco 1 desde clavija 3 a 2\n",
            "4: Mover Disco 3 desde clavija 1 a 3\n",
            "5: Mover Disco 1 desde clavija 2 a 1\n",
            "6: Mover Disco 2 desde clavija 2 a 3\n",
            "7: Mover Disco 1 desde clavija 1 a 3\n",
            "\n",
            "\n",
            "El tiempo de ejecucion es 0.001242  segundos\n"
          ]
        }
      ],
      "source": [
        "import math\n",
        "import time\n",
        "\n",
        "def Solve_By_BestFS(n):\n",
        "\n",
        "    peg1_value = peg2_value = peg3_value = 0\n",
        "\n",
        "\n",
        "    state_COLLECTION = []\n",
        "\n",
        "    steps_till_now_COLLECTION = []\n",
        "\n",
        "  \n",
        "    past_states = []\n",
        "\n",
        "    steps_till_current_state = steps_till_next_state = []\n",
        "\n",
        "    \n",
        "    Value_of_Disk = 0\n",
        "\n",
        "    \n",
        "    current_state = new_state = []\n",
        "\n",
        "    \n",
        "    disk_on_top = 0\n",
        "    \n",
        "    state_found_before = solution_found = False\n",
        "\n",
        "    Value_of_All_Disks = int(math.pow(2, n + 1)) - 2\n",
        "\n",
        "    current_state = [0, Value_of_All_Disks, 0, 0]\n",
        "\n",
        "    state_COLLECTION.append(current_state)\n",
        "    steps_till_now_COLLECTION.append(steps_till_current_state)\n",
        "    past_states.append(current_state)\n",
        "\n",
        "    while solution_found == False and len(state_COLLECTION) > 0:\n",
        "        best_item = - 1\n",
        "        for item in range(0,len(state_COLLECTION)):\n",
        "            state = state_COLLECTION[item]\n",
        "            for d in range(n-1, 0, -1):\n",
        "                partial_solution_val = math.pow(2, d+1)-2\n",
        "                if ((n+d)%2 == 0):\n",
        "                    partial_solution_peg = 3\n",
        "                else:\n",
        "                    partial_solution_peg = 2\n",
        "                if (state[partial_solution_peg] == partial_solution_val):\n",
        "                    best_item = item\n",
        "                    break\n",
        "            if (best_item > -1):\n",
        "                break\n",
        "        if best_item == -1:\n",
        "            best_item = 0\n",
        "\n",
        "        current_state = state_COLLECTION.pop(best_item)\n",
        "        steps_till_current_state = steps_till_now_COLLECTION.pop(best_item)\n",
        "        for source_peg in range(3, 0, -1):\n",
        "            if (current_state[source_peg] == 0):\n",
        "                continue\n",
        "            for dest_peg in range(3, 0, -1):\n",
        "                if (solution_found == True or source_peg == dest_peg):\n",
        "                    continue\n",
        "                for disk_size in range(1, n + 1):\n",
        "                    Value_of_Disk = int(math.pow(2, disk_size))\n",
        "                    if ((current_state[source_peg] & Value_of_Disk) == Value_of_Disk):\n",
        "                        disk_on_top = disk_size\n",
        "                        break\n",
        "                if (current_state[dest_peg] == 0 or current_state[dest_peg] % Value_of_Disk == 0):\n",
        "                    new_state = list(current_state)\n",
        "                    new_state[source_peg] = new_state[source_peg] - Value_of_Disk\n",
        "                    new_state[dest_peg] = new_state[dest_peg] + Value_of_Disk\n",
        "                    next_step = [disk_on_top, source_peg, dest_peg]\n",
        "                    steps_till_next_state = list(steps_till_current_state)\n",
        "                    steps_till_next_state.append(next_step)\n",
        "                    if (new_state[3] == Value_of_All_Disks):\n",
        "                        steps = 1\n",
        "                        output = \"\"\n",
        "                        for aseq in steps_till_next_state:\n",
        "                            output = output + str(steps) + \": Mover Disco \" + str(aseq[0]) + \" desde clavija \" + str(\n",
        "                                aseq[1]) + \" a \" + str(aseq[2]) + \"\\n\"\n",
        "                            steps = steps + 1\n",
        "                        print(output)\n",
        "                        solution_found = True\n",
        "                        return\n",
        "                    else:\n",
        "                        state_found_before = False\n",
        "                        for past_state in past_states:\n",
        "                            if (past_state[1] == new_state[1] and past_state[2] == new_state[2] and past_state[3] ==\n",
        "                                new_state[3]):\n",
        "                                state_found_before = True\n",
        "                                break\n",
        "                        if state_found_before == False:\n",
        "                            state_COLLECTION.append(new_state)\n",
        "                            steps_till_now_COLLECTION.append(steps_till_next_state)\n",
        "                            past_states.append(new_state)\n",
        "                            \n",
        "if __name__ == \"__main__\":\n",
        "    n = 3\n",
        "    start_time=time.time()\n",
        "    print (\"Resolver por el mejor metodo de primera busqueda:\")\n",
        "    Solve_By_BestFS(n)\n",
        "    tiempo_ejecucion=time.time()-start_time\n",
        "    print(\"\\nEl tiempo de ejecucion es\", round(tiempo_ejecucion,6),\" segundos\")"
      ]
    },
    {
      "cell_type": "markdown",
      "source": [
        "El tipo de busqueda utilizado para realizar el ejercicio fue una busqueda (Best First Search) Busqueda primero el mejor que utilizará la lógica de último en entrar, primero en salir. De esa forma, vamos a seguir profundizando (verticalmente) antes de buscar estados horizontales."
      ],
      "metadata": {
        "id": "m-h05gKzfhlw"
      }
    }
  ]
}